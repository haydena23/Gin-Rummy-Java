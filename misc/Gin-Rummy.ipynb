{
 "cells": [
  {
   "cell_type": "markdown",
   "metadata": {},
   "source": [
    "# Gin Rummy scoring algorithm\n",
    "\n",
    "All credit goes to Reddit user `/u/thewataru`\n",
    "\n",
    "Found here: https://www.reddit.com/r/algorithms/comments/4zfv8o/a_dynamic_programming_algorithm_for_gin_rummy/d6w8cxg/"
   ]
  },
  {
   "cell_type": "code",
   "execution_count": 35,
   "metadata": {
    "collapsed": true
   },
   "outputs": [],
   "source": [
    "import random\n",
    "from itertools import chain, combinations"
   ]
  },
  {
   "cell_type": "code",
   "execution_count": 36,
   "metadata": {
    "collapsed": true
   },
   "outputs": [],
   "source": [
    "ranks = ['ace', '2', '3', '4', '5', '6', '7', '8', '9', \\\n",
    "     '10', 'jack', 'queen', 'king']"
   ]
  },
  {
   "cell_type": "code",
   "execution_count": 37,
   "metadata": {
    "collapsed": true
   },
   "outputs": [],
   "source": [
    "suits = ['spades', 'hearts', 'diamonds', 'clubs']"
   ]
  },
  {
   "cell_type": "code",
   "execution_count": 38,
   "metadata": {
    "collapsed": true
   },
   "outputs": [],
   "source": [
    "def randomCard():\n",
    "    return [ranks[int(random.random() * len(ranks))],   \\\n",
    "     suits[int(random.random() * len(suits))]]"
   ]
  },
  {
   "cell_type": "code",
   "execution_count": 39,
   "metadata": {
    "collapsed": true
   },
   "outputs": [],
   "source": [
    "def randomHand(hl):\n",
    "    h = []\n",
    "    while hl > 0:\n",
    "        rc = randomCard()\n",
    "        if rc in h:\n",
    "            continue\n",
    "        h.append(rc)\n",
    "        hl -= 1\n",
    "    return h"
   ]
  },
  {
   "cell_type": "code",
   "execution_count": 40,
   "metadata": {
    "collapsed": true
   },
   "outputs": [],
   "source": [
    "def lreversed(l):\n",
    "    return [k for k in reversed(l)]"
   ]
  },
  {
   "cell_type": "code",
   "execution_count": 41,
   "metadata": {
    "collapsed": true
   },
   "outputs": [],
   "source": [
    "def rankOf(x):\n",
    "    return x[0]"
   ]
  },
  {
   "cell_type": "code",
   "execution_count": 42,
   "metadata": {
    "collapsed": true
   },
   "outputs": [],
   "source": [
    "def nextRankOf(x):\n",
    "    if x == 'king': return 'god'\n",
    "    return ranks[ranks.index(x) + 1]"
   ]
  },
  {
   "cell_type": "code",
   "execution_count": 43,
   "metadata": {
    "collapsed": true
   },
   "outputs": [],
   "source": [
    "def suitOf(x):\n",
    "    return x[1]"
   ]
  },
  {
   "cell_type": "code",
   "execution_count": 44,
   "metadata": {
    "collapsed": true
   },
   "outputs": [],
   "source": [
    "def scoreOf(x):\n",
    "    if rankOf(x) in ['jack', 'queen', 'king']:\n",
    "        return 10\n",
    "    elif rankOf(x) == 'ace':\n",
    "        return 1\n",
    "    else:\n",
    "        return ranks.index(rankOf(x)) + 1 "
   ]
  },
  {
   "cell_type": "code",
   "execution_count": 45,
   "metadata": {
    "collapsed": true
   },
   "outputs": [],
   "source": [
    "mem = dict() # stores answer score\n",
    "prev = dict() # stores previous state\n",
    "cards = dict() # stores cards to get to prev state"
   ]
  },
  {
   "cell_type": "code",
   "execution_count": 46,
   "metadata": {
    "collapsed": true
   },
   "outputs": [],
   "source": [
    "def F(sz):\n",
    "    tsz = tuple(sz)\n",
    "    if tsz in mem:\n",
    "        return mem[tsz]\n",
    "    if sum(sz) == 0:\n",
    "        mem[tsz] = 0\n",
    "        return 0\n",
    "    maxScore = 0\n",
    "    maxPrev = None\n",
    "    maxCards = None\n",
    "    # Ignore one card in each set:\n",
    "    for s in range(4):\n",
    "        if sz[s] > 0:\n",
    "            sz[s] = sz[s] - 1\n",
    "            if maxScore < F(sz):\n",
    "                maxScore = F(sz)\n",
    "                maxPrev = tuple(sz)\n",
    "                maxCards = None\n",
    "            sz[s] = sz[s] + 1\n",
    "    # Get ranks of last cards in each suit\n",
    "    r = [None if sz[s] == 0 else hand[suitStarts[suits[s]] + sz[s] - 1][0] for s in range(4)]\n",
    "    # Try to take all cards as a set except suit #i\n",
    "    for i in range(0,5):\n",
    "        canTake = True\n",
    "        rank = None\n",
    "        for j in range(0, 4):\n",
    "            if j == i:\n",
    "                continue\n",
    "            if r[j] == None:\n",
    "                canTake = False\n",
    "            if rank != None and rank != r[j]:\n",
    "                canTake = False\n",
    "            rank = r[j]\n",
    "        if canTake:\n",
    "            curCards = []\n",
    "            curScore = 0\n",
    "            for j in range(0, 4):\n",
    "                if j == i: \n",
    "                    continue\n",
    "                sz[j] = sz[j] - 1\n",
    "                curCards.append([rank, suits[j]])\n",
    "                curScore = curScore + scoreOf([rank, suits[j]])\n",
    "            curScore = curScore + F(sz)\n",
    "            if curScore > maxScore:\n",
    "                maxScore = curScore\n",
    "                maxPrev = tuple(sz)\n",
    "                maxCards = curCards\n",
    "            for j in range(0, 4):\n",
    "                if j == i: \n",
    "                    continue\n",
    "                sz[j] = sz[j] + 1\n",
    "    # Try to get streak in suit s\n",
    "    for s in range(4):\n",
    "        if sz[s] < 2: \n",
    "            continue\n",
    "        r = hand[suitStarts[suits[s]] + sz[s] - 1][0]\n",
    "        curCards = [hand[suitStarts[suits[s]] + sz[s] - 1]]\n",
    "        curScore = scoreOf(curCards[-1])\n",
    "        for i in range(2,sz[s]+1):\n",
    "            rr = hand[suitStarts[suits[s]] + sz[s] - i][0]    \n",
    "            if nextRankOf(rr) != r: # streak is broken\n",
    "                break\n",
    "            r = rr\n",
    "            curCards.append(hand[suitStarts[suits[s]] + sz[s] - i])\n",
    "            curScore += scoreOf(curCards[-1])\n",
    "            if i >= 3:\n",
    "                sz[s] -= i\n",
    "                if maxScore < curScore+F(sz):\n",
    "                    maxScore = curScore+F(sz)\n",
    "                    maxPrev = tuple(sz)\n",
    "                    maxCards = [_ for _ in reversed(curCards)]\n",
    "                sz[s] += i\n",
    "    mem[tsz] = maxScore\n",
    "    prev[tsz] = maxPrev\n",
    "    cards[tsz] = maxCards\n",
    "    return maxScore"
   ]
  },
  {
   "cell_type": "code",
   "execution_count": 47,
   "metadata": {
    "collapsed": true
   },
   "outputs": [],
   "source": [
    "def Restore(sz):\n",
    "    if sz == None or mem[sz] == 0:\n",
    "        return\n",
    "    Restore(prev[sz])\n",
    "    if cards[sz]:\n",
    "        print cards[sz]"
   ]
  },
  {
   "cell_type": "code",
   "execution_count": 48,
   "metadata": {
    "collapsed": false
   },
   "outputs": [
    {
     "data": {
      "text/plain": [
       "[['5', 'spades'],\n",
       " ['8', 'spades'],\n",
       " ['jack', 'hearts'],\n",
       " ['5', 'hearts'],\n",
       " ['9', 'clubs'],\n",
       " ['king', 'diamonds'],\n",
       " ['6', 'spades'],\n",
       " ['9', 'spades'],\n",
       " ['7', 'spades'],\n",
       " ['2', 'clubs'],\n",
       " ['4', 'diamonds'],\n",
       " ['queen', 'hearts'],\n",
       " ['king', 'hearts'],\n",
       " ['2', 'spades'],\n",
       " ['7', 'clubs'],\n",
       " ['6', 'clubs'],\n",
       " ['6', 'hearts'],\n",
       " ['7', 'diamonds'],\n",
       " ['6', 'diamonds'],\n",
       " ['ace', 'diamonds']]"
      ]
     },
     "execution_count": 48,
     "metadata": {},
     "output_type": "execute_result"
    }
   ],
   "source": [
    "hand = [['5', 'spades'], \n",
    "        ['8', 'spades'], \n",
    "        ['jack', 'hearts'], \n",
    "        ['5', 'hearts'], \n",
    "        ['9', 'clubs'], \n",
    "        ['king', 'diamonds'], \n",
    "        ['6', 'spades'], \n",
    "        ['9', 'spades'], \n",
    "        ['7', 'spades'], \n",
    "        ['2', 'clubs'], \n",
    "        ['4', 'diamonds'], \n",
    "        ['queen', 'hearts'], \n",
    "        ['king', 'hearts'], \n",
    "        ['2', 'spades'], \n",
    "        ['7', 'clubs'], \n",
    "        ['6', 'clubs'], \n",
    "        ['6', 'hearts'], \n",
    "        ['7', 'diamonds'], \n",
    "        ['6', 'diamonds'], \n",
    "        ['ace', 'diamonds']]\n",
    "hand"
   ]
  },
  {
   "cell_type": "code",
   "execution_count": 49,
   "metadata": {
    "collapsed": false
   },
   "outputs": [
    {
     "data": {
      "text/plain": [
       "[['2', 'spades'],\n",
       " ['5', 'spades'],\n",
       " ['6', 'spades'],\n",
       " ['7', 'spades'],\n",
       " ['8', 'spades'],\n",
       " ['9', 'spades'],\n",
       " ['5', 'hearts'],\n",
       " ['6', 'hearts'],\n",
       " ['jack', 'hearts'],\n",
       " ['queen', 'hearts'],\n",
       " ['king', 'hearts'],\n",
       " ['ace', 'diamonds'],\n",
       " ['4', 'diamonds'],\n",
       " ['6', 'diamonds'],\n",
       " ['7', 'diamonds'],\n",
       " ['king', 'diamonds'],\n",
       " ['2', 'clubs'],\n",
       " ['6', 'clubs'],\n",
       " ['7', 'clubs'],\n",
       " ['9', 'clubs']]"
      ]
     },
     "execution_count": 49,
     "metadata": {},
     "output_type": "execute_result"
    }
   ],
   "source": [
    "hand.sort(key=lambda u: suits.index(u[1]) * 20 + ranks.index(u[0]))\n",
    "hand"
   ]
  },
  {
   "cell_type": "code",
   "execution_count": 50,
   "metadata": {
    "collapsed": false
   },
   "outputs": [
    {
     "data": {
      "text/plain": [
       "{'clubs': 16, 'diamonds': 11, 'hearts': 6, 'spades': 0}"
      ]
     },
     "execution_count": 50,
     "metadata": {},
     "output_type": "execute_result"
    }
   ],
   "source": [
    "suitStarts = dict()\n",
    "suitStarts[suits[0]] = 0 #first card with given suit\n",
    "for i in range(1, len(hand)):\n",
    "    if hand[i-1][1] != hand[i][1]:\n",
    "        suitStarts[hand[i][1]] = i\n",
    "suitStarts"
   ]
  },
  {
   "cell_type": "code",
   "execution_count": 51,
   "metadata": {
    "collapsed": false
   },
   "outputs": [
    {
     "data": {
      "text/plain": [
       "{'clubs': 4, 'diamonds': 5, 'hearts': 5, 'spades': 6}"
      ]
     },
     "execution_count": 51,
     "metadata": {},
     "output_type": "execute_result"
    }
   ],
   "source": [
    "suitSize = dict()\n",
    "last = len(hand)\n",
    "\n",
    "for s in reversed(suits):\n",
    "    if not s in suitStarts:\n",
    "        suitStarts[s] = last\n",
    "        suitSize[s] = 0\n",
    "    else:\n",
    "        suitSize[s] = last - suitStarts[s]\n",
    "    last = suitStarts[s]\n",
    "    \n",
    "# for s in reversed(suits):\n",
    "#     suitSize[s] = last - suitStarts[s]\n",
    "#     last = suitStarts[s]\n",
    "suitSize"
   ]
  },
  {
   "cell_type": "code",
   "execution_count": 52,
   "metadata": {
    "collapsed": false
   },
   "outputs": [
    {
     "data": {
      "text/plain": [
       "[6, 5, 5, 4]"
      ]
     },
     "execution_count": 52,
     "metadata": {},
     "output_type": "execute_result"
    }
   ],
   "source": [
    "sz = [suitSize[s] for s in suits]\n",
    "sz"
   ]
  },
  {
   "cell_type": "code",
   "execution_count": 53,
   "metadata": {
    "collapsed": false
   },
   "outputs": [
    {
     "data": {
      "text/plain": [
       "83"
      ]
     },
     "execution_count": 53,
     "metadata": {},
     "output_type": "execute_result"
    }
   ],
   "source": [
    "maxScore = F(sz)\n",
    "maxScore"
   ]
  },
  {
   "cell_type": "code",
   "execution_count": 54,
   "metadata": {
    "collapsed": false
   },
   "outputs": [
    {
     "name": "stdout",
     "output_type": "stream",
     "text": [
      "[['6', 'hearts'], ['6', 'diamonds'], ['6', 'clubs']]\n",
      "[['jack', 'hearts'], ['queen', 'hearts'], ['king', 'hearts']]\n",
      "[['5', 'spades'], ['6', 'spades'], ['7', 'spades'], ['8', 'spades'], ['9', 'spades']]\n"
     ]
    }
   ],
   "source": [
    "Restore(tuple(sz))"
   ]
  }
 ],
 "metadata": {
  "kernelspec": {
   "display_name": "Python 2",
   "language": "python",
   "name": "python2"
  },
  "language_info": {
   "codemirror_mode": {
    "name": "ipython",
    "version": 2
   },
   "file_extension": ".py",
   "mimetype": "text/x-python",
   "name": "python",
   "nbconvert_exporter": "python",
   "pygments_lexer": "ipython2",
   "version": "2.7.13"
  }
 },
 "nbformat": 4,
 "nbformat_minor": 2
}
